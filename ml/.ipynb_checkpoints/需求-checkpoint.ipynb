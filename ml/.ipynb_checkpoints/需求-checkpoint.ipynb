{
 "cells": [
  {
   "cell_type": "markdown",
   "metadata": {},
   "source": [
    "### 任务\n",
    "- 可以根据课上老师所讲授的特征选择和机器学习的知识，由给定一段时间内的北京天气相关指数数据和北京PM2.5指数等，建立模型预测接下来一段时间内北京的PM2.5指数。"
   ]
  },
  {
   "cell_type": "markdown",
   "metadata": {},
   "source": [
    "### 数据\n",
    "- 数据主要包括2010年1月1日至2014年12月31日间北京pm2.5指数以及相关天气指数数据。\n",
    "- 数据分为训练数据和测试数据，分别保存在pm25_train.csv和pm25_test.csv两个文件中。\n",
    "- 其中训练数据主要包括35746条记录，13个字段，主要字段说明如下：\n",
    "    - date：观测数据发生的日期（年-月-日）\n",
    "    - hour：观测数据发生的时间点（时）\n",
    "    - pm2.5：观测时间点对应的pm2.5指数（(ug/m^3)\n",
    "    - DEWP：露点，空气中水气含量达到饱和的气温（â„ƒ）\n",
    "    - TEMP：温度，观测时间点对应的温度（â„ƒ）\n",
    "    - PRES：压强，观测时间点对应的压强（hPa）\n",
    "    - Iws：累积风速，观测时间点对应的累积风速（m/s）\n",
    "    - Is：累计降雪，到观测时间点为止累计降雪的时长（小时）\n",
    "    - Ir：累计降雨，到观测时间点为止累计降雨的时长（小时）cbwd_NE：观测时间点对应的风向为东北风(m/s)\n",
    "    - cbwd_NW：观测时间点对应的风向为西北风(m/s)\n",
    "    - cbwd_SE：观测时间点对应的风向为东南风(m/s)\n",
    "    - cbwd_cv：观测时间点对应的风向为静风(m/s)\n",
    "\n",
    "- 测试数据主要包括6011条记录，12个字段，测试数据的字段信息和训练数据相比，除了不包括pm2.5字段以外其他完全相同。学员需要通过所学的知识，利用训练数据建立回归模型，并用于预测测试数据相应的pm2.5指数。"
   ]
  },
  {
   "cell_type": "markdown",
   "metadata": {},
   "source": [
    "### 评分标准\n",
    "- 评分算法\n",
    "    - 算法通过计算平均预测误差来衡量回归模型的优劣。平均预测误差越小，说明回归模型越好。平均预测误差计算公式如下：\n",
    "![](mse.png)                                                     \n",
    "\n",
    "- 其中，mse是平均预测误差，m是测试数据的记录数（即6011）， 是参赛者提交的PM2.5预测指数，y是对应的真实PM2.5指数。"
   ]
  },
  {
   "cell_type": "code",
   "execution_count": null,
   "metadata": {},
   "outputs": [],
   "source": []
  }
 ],
 "metadata": {
  "kernelspec": {
   "display_name": "Python 3",
   "language": "python",
   "name": "python3"
  },
  "language_info": {
   "codemirror_mode": {
    "name": "ipython",
    "version": 3
   },
   "file_extension": ".py",
   "mimetype": "text/x-python",
   "name": "python",
   "nbconvert_exporter": "python",
   "pygments_lexer": "ipython3",
   "version": "3.7.1"
  }
 },
 "nbformat": 4,
 "nbformat_minor": 2
}
